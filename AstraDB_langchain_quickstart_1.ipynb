{
 "cells": [
  {
   "cell_type": "markdown",
   "id": "6d60a143-5cc8-43b9-8f2b-d5353aaa7f3c",
   "metadata": {},
   "source": [
    "# Astra DB and LangChain, quickstart / integration guide"
   ]
  },
  {
   "cell_type": "code",
   "execution_count": 1,
   "id": "943defcb-ace5-4d78-82e3-37b0a24dbc1a",
   "metadata": {},
   "outputs": [],
   "source": [
    "! pip install --quiet \\\n",
    "    \"langchain>=0.0.336\" \\\n",
    "    \"astrapy>=0.6.0\" \\\n",
    "    \"datasets>=2.14.6\" \\\n",
    "    \"openai>=1.3.0\" \\\n",
    "    \"pypdf>=3.17.0\" \\\n",
    "    \"tiktoken>=0.5.1\""
   ]
  },
  {
   "cell_type": "code",
   "execution_count": 2,
   "id": "47802c94-ec4a-460b-ba01-cbeff5c9c060",
   "metadata": {},
   "outputs": [],
   "source": [
    "import os\n",
    "from getpass import getpass\n",
    "\n",
    "from datasets import load_dataset\n",
    "\n",
    "from langchain.vectorstores import AstraDB\n",
    "from langchain.schema import Document\n",
    "from langchain.embeddings import OpenAIEmbeddings"
   ]
  },
  {
   "cell_type": "markdown",
   "id": "d26eb991-6176-4250-8546-6814f0e08c9e",
   "metadata": {},
   "source": [
    "## Init\n",
    "\n",
    "Example values:\n",
    "- API Endpoint: `https://01234567-89ab-cdef-0123-456789abcdef-us-east1.apps.astra.datastax.com`\n",
    "- Token: `AstraCS:6gBhNmsk135....` (it must have a role of at least \"Database Administrator\")\n",
    "- _Keyspace. Optional, if provided:_ `my_keyspace`\n",
    "- OpenAI API key: `sk-4fQ3F...`"
   ]
  },
  {
   "cell_type": "code",
   "execution_count": 3,
   "id": "98df4a0f-86ee-4f96-a21e-8560644535ec",
   "metadata": {},
   "outputs": [],
   "source": [
    "if 'ASTRA_DB_API_ENDPOINT' not in os.environ:\n",
    "    os.environ[\"ASTRA_DB_API_ENDPOINT\"] = input(\"ASTRA_DB_API_ENDPOINT = \")\n",
    "\n",
    "if 'ASTRA_DB_APPLICATION_TOKEN' not in os.environ:\n",
    "    os.environ[\"ASTRA_DB_APPLICATION_TOKEN\"] = getpass(\"ASTRA_DB_APPLICATION_TOKEN = \")\n",
    "\n",
    "if 'ASTRA_DB_KEYSPACE' not in os.environ:\n",
    "    ks = input(\"(Optional) ASTRA_DB_KEYSPACE = \")\n",
    "    if ks:\n",
    "        os.environ[\"ASTRA_DB_KEYSPACE\"] = ks"
   ]
  },
  {
   "cell_type": "code",
   "execution_count": 4,
   "id": "c2cb6c2f-70fd-40de-984f-6e8af5c56b6b",
   "metadata": {},
   "outputs": [],
   "source": [
    "if 'OPENAI_API_KEY' not in os.environ:\n",
    "    os.environ[\"OPENAI_API_KEY\"] = getpass(\"OPENAI_API_KEY = \")"
   ]
  },
  {
   "cell_type": "code",
   "execution_count": 5,
   "id": "019c50d8-d6e2-4dd4-a9bf-992594aaa53d",
   "metadata": {},
   "outputs": [],
   "source": [
    "embe = OpenAIEmbeddings()\n",
    "vstore = AstraDB(\n",
    "    embedding=embe,\n",
    "    collection_name=\"astra_vector_demo\",\n",
    "    token=os.environ[\"ASTRA_DB_APPLICATION_TOKEN\"],\n",
    "    api_endpoint=os.environ[\"ASTRA_DB_API_ENDPOINT\"],\n",
    "    namespace=os.environ.get(\"ASTRA_DB_KEYSPACE\"),     #  Usually no need for this\n",
    ")"
   ]
  },
  {
   "cell_type": "markdown",
   "id": "b5210dee-393e-4ed4-a4cd-29a6399c0fea",
   "metadata": {},
   "source": [
    "## Load a small dataset"
   ]
  },
  {
   "cell_type": "code",
   "execution_count": 6,
   "id": "eab54cd7-6e6a-4a7a-aea5-bc8a9c5458cf",
   "metadata": {},
   "outputs": [
    {
     "name": "stdout",
     "output_type": "stream",
     "text": [
      "An example entry:\n",
      "{'author': 'aristotle', 'quote': 'Love well, be loved and do something of value.', 'tags': 'love;ethics'}\n"
     ]
    }
   ],
   "source": [
    "philo_dataset = load_dataset(\"datastax/philosopher-quotes\")[\"train\"]\n",
    "print(\"An example entry:\")\n",
    "print(philo_dataset[16])"
   ]
  },
  {
   "cell_type": "markdown",
   "id": "e1154901-f06a-4b58-9295-266c7dc48de6",
   "metadata": {},
   "source": [
    "## Add dataset documents to the vector store"
   ]
  },
  {
   "cell_type": "code",
   "execution_count": 7,
   "id": "6977fbdb-7186-4428-a468-b51102bff312",
   "metadata": {},
   "outputs": [
    {
     "name": "stdout",
     "output_type": "stream",
     "text": [
      "\n",
      "Inserted 450 documents.\n"
     ]
    }
   ],
   "source": [
    "docs = []\n",
    "for entry in philo_dataset:\n",
    "    metadata = {\"author\": entry[\"author\"]}\n",
    "    if entry[\"tags\"]:\n",
    "        for tag in entry[\"tags\"].split(\";\"):\n",
    "            metadata[tag] = \"y\"\n",
    "    doc = Document(page_content=entry[\"quote\"], metadata=metadata)\n",
    "    docs.append(doc)\n",
    "\n",
    "inserted_ids = vstore.add_documents(docs)\n",
    "print(f\"\\nInserted {len(inserted_ids)} documents.\")"
   ]
  },
  {
   "cell_type": "markdown",
   "id": "1f2f7cc7-75f3-43d9-a3d6-f7f59fed3950",
   "metadata": {},
   "source": [
    "### Alternatively, use `add_texts`\n",
    "\n",
    "This has the advantage that you can specify the IDs, so that you don't risk duplicating the entries if you run the insertion multiple times."
   ]
  },
  {
   "cell_type": "code",
   "execution_count": 8,
   "id": "8e0277d8-f3e5-4526-84e1-6e365aaef493",
   "metadata": {},
   "outputs": [
    {
     "name": "stdout",
     "output_type": "stream",
     "text": [
      "\n",
      "Inserted 2 documents.\n"
     ]
    }
   ],
   "source": [
    "texts = [\n",
    "    \"I think, therefore I am.\",\n",
    "    \"To the things themselves!\",\n",
    "]\n",
    "metadatas = [\n",
    "    {\"author\": \"descartes\", \"knowledge\": \"y\"},\n",
    "    {\"author\": \"husserl\", \"knowledge\": \"y\"},\n",
    "]\n",
    "ids = [\n",
    "    \"desc_01\",\n",
    "    \"huss_xy\",\n",
    "]\n",
    "inserted_ids_2 = vstore.add_texts(texts=texts, metadatas=metadatas, ids=ids)\n",
    "print(f\"\\nInserted {len(inserted_ids_2)} documents.\")"
   ]
  },
  {
   "cell_type": "markdown",
   "id": "76098464-bf37-4afd-aafe-6f3d0a8ddd2f",
   "metadata": {},
   "source": [
    "## ANN, simple"
   ]
  },
  {
   "cell_type": "code",
   "execution_count": 9,
   "id": "bbf4640b-c087-4cab-8ccd-f554fe6bde4d",
   "metadata": {},
   "outputs": [
    {
     "name": "stdout",
     "output_type": "stream",
     "text": [
      "* We are what we are because we have been what we have been. [{'author': 'freud', 'history': 'y'}]\n",
      "* We are what we are because we have been what we have been. [{'author': 'freud', 'history': 'y'}]\n",
      "* We become what we contemplate. [{'author': 'plato', 'knowledge': 'y', 'ethics': 'y'}]\n"
     ]
    }
   ],
   "source": [
    "results = vstore.similarity_search(\"Our life is what we make of it\", k=3)\n",
    "for res in results:\n",
    "    print(f\"* {res.page_content} [{res.metadata}]\")"
   ]
  },
  {
   "cell_type": "markdown",
   "id": "f69ceadb-68be-494a-abac-4af9cd62493e",
   "metadata": {},
   "source": [
    "### Similarity values"
   ]
  },
  {
   "cell_type": "code",
   "execution_count": 10,
   "id": "d79ef95c-2a1e-4e5d-85a1-73ad902c3ef3",
   "metadata": {},
   "outputs": [
    {
     "name": "stdout",
     "output_type": "stream",
     "text": [
      "* [SIM=0.934130] We are what we are because we have been what we have been. [{'author': 'freud', 'history': 'y'}]\n",
      "* [SIM=0.934110] We are what we are because we have been what we have been. [{'author': 'freud', 'history': 'y'}]\n",
      "* [SIM=0.932172] We become what we contemplate. [{'author': 'plato', 'knowledge': 'y', 'ethics': 'y'}]\n"
     ]
    }
   ],
   "source": [
    "results = vstore.similarity_search_with_score(\"Our life is what we make of it\", k=3)\n",
    "for res, score in results:\n",
    "    print(f\"* [SIM={score:3f}] {res.page_content} [{res.metadata}]\")"
   ]
  },
  {
   "cell_type": "markdown",
   "id": "b86a4db1-67ef-48d2-9939-cd24c0273fd3",
   "metadata": {},
   "source": [
    "## ANN, with metadata"
   ]
  },
  {
   "cell_type": "code",
   "execution_count": 11,
   "id": "2fcacba8-a865-4c90-8617-a6e379d71b15",
   "metadata": {},
   "outputs": [
    {
     "name": "stdout",
     "output_type": "stream",
     "text": [
      "* The quality of life is determined by its activities. [{'author': 'aristotle'}]\n",
      "* The quality of life is determined by its activities. [{'author': 'aristotle'}]\n",
      "* You are what you repeatedly do [{'author': 'aristotle'}]\n"
     ]
    }
   ],
   "source": [
    "results = vstore.similarity_search(\n",
    "    \"Our life is what we make of it\",\n",
    "    k=3,\n",
    "    filter={\"author\": \"aristotle\"},\n",
    ")\n",
    "for res in results:\n",
    "    print(f\"* {res.page_content} [{res.metadata}]\")"
   ]
  },
  {
   "cell_type": "markdown",
   "id": "7d22175b-4a7f-4ebb-936a-72db24551f56",
   "metadata": {},
   "source": [
    "## MMR search"
   ]
  },
  {
   "cell_type": "code",
   "execution_count": 12,
   "id": "523a1b18-8b81-484a-b79e-c8fa74ac5d68",
   "metadata": {},
   "outputs": [
    {
     "name": "stdout",
     "output_type": "stream",
     "text": [
      "* The quality of life is determined by its activities. [{'author': 'aristotle'}]\n",
      "* You are what you repeatedly do [{'author': 'aristotle'}]\n",
      "* The man who is truly good and wise will bear with dignity whatever fortune sends, and will always make the best of his circumstances. [{'author': 'aristotle', 'knowledge': 'y', 'ethics': 'y'}]\n"
     ]
    }
   ],
   "source": [
    "results = vstore.max_marginal_relevance_search(\n",
    "    \"Our life is what we make of it\",\n",
    "    k=3,\n",
    "    filter={\"author\": \"aristotle\"},\n",
    ")\n",
    "for res in results:\n",
    "    print(f\"* {res.page_content} [{res.metadata}]\")"
   ]
  },
  {
   "cell_type": "markdown",
   "id": "14cb448d-91d1-4edc-8047-adcfa87b5afc",
   "metadata": {},
   "source": [
    "## Deleting documents"
   ]
  },
  {
   "cell_type": "markdown",
   "id": "b8d031f8-4d5e-4ab7-a6a6-020f14a480af",
   "metadata": {},
   "source": [
    "### By document ID"
   ]
  },
  {
   "cell_type": "code",
   "execution_count": 13,
   "id": "71ab0207-9535-4cc0-8557-ef030c08e73c",
   "metadata": {},
   "outputs": [
    {
     "name": "stdout",
     "output_type": "stream",
     "text": [
      "all_succeed=True\n"
     ]
    }
   ],
   "source": [
    "delete_1 = vstore.delete(inserted_ids[:3])\n",
    "print(f\"all_succeed={delete_1}\")  # True, all documents deleted"
   ]
  },
  {
   "cell_type": "code",
   "execution_count": 14,
   "id": "1ee19e34-6826-49ec-93cd-692e1af3894e",
   "metadata": {},
   "outputs": [
    {
     "name": "stdout",
     "output_type": "stream",
     "text": [
      "some_succeeds=True\n"
     ]
    }
   ],
   "source": [
    "delete_2 = vstore.delete(inserted_ids[2:5])\n",
    "print(f\"some_succeeds={delete_2}\")  # True, though some IDs were gone already"
   ]
  },
  {
   "cell_type": "markdown",
   "id": "cdc96eda-0047-485b-962c-60fe329ab1b3",
   "metadata": {},
   "source": [
    "### Retrieve and then delete\n",
    "\n",
    "Sometimes you do not have the IDs, ... but you might want to run a search and then delete the results for some reason:"
   ]
  },
  {
   "cell_type": "code",
   "execution_count": 15,
   "id": "b5bc1cb3-76f7-4d2d-9e00-9919b813da5a",
   "metadata": {},
   "outputs": [
    {
     "name": "stdout",
     "output_type": "stream",
     "text": [
      "* [SIM=0.920211] Philosophy can make people sick. [{'author': 'aristotle', 'politics': 'y'}]\n",
      "* [SIM=0.920160] Philosophy can make people sick. [{'author': 'aristotle', 'politics': 'y'}]\n",
      "Deleting IDs = ['43', 'a81bc61456b049ee958ee2c092a05055'] ...\n",
      "Deletion succeeded = True\n"
     ]
    }
   ],
   "source": [
    "ids_to_delete = []\n",
    "for res_doc, res_score, res_id in vstore.similarity_search_with_score_id(\n",
    "    \"Philosophy has no goals\",\n",
    "    k=2,\n",
    "):\n",
    "    print(f\"* [SIM={res_score:3f}] {res_doc.page_content} [{res_doc.metadata}]\")\n",
    "    ids_to_delete.append(res_id)\n",
    "\n",
    "print(f\"Deleting IDs = {ids_to_delete} ...\")\n",
    "success = vstore.delete(ids_to_delete)\n",
    "print(f\"Deletion succeeded = {success}\")"
   ]
  },
  {
   "cell_type": "markdown",
   "id": "f44ea752-826f-4d3b-8ae5-4a23eef38ede",
   "metadata": {},
   "source": [
    "Now try again the same search:"
   ]
  },
  {
   "cell_type": "code",
   "execution_count": 16,
   "id": "24e24396-49e6-4fd5-90c4-badd13274b3c",
   "metadata": {},
   "outputs": [
    {
     "name": "stdout",
     "output_type": "stream",
     "text": [
      "* [SIM=0.920148] For what purpose humanity is there should not even concern us: why you are here, that you should ask yourself: and if you have no ready answer, then set for yourself goals, high and noble goals, and perish in pursuit of them! [{'author': 'nietzsche', 'ethics': 'y', 'knowledge': 'y'}]\n",
      "* [SIM=0.918522] Philosophy is by its nature something esoteric, neither made for the mob nor capable of being prepared for the mob. [{'author': 'hegel'}]\n"
     ]
    }
   ],
   "source": [
    "for res_doc, res_score, res_id in vstore.similarity_search_with_score_id(\n",
    "    \"Philosophy has no goals\",\n",
    "    k=2,\n",
    "):\n",
    "    print(f\"* [SIM={res_score:3f}] {res_doc.page_content} [{res_doc.metadata}]\")"
   ]
  },
  {
   "cell_type": "markdown",
   "id": "a8280918-25ea-40f4-82c1-78d0b9b27278",
   "metadata": {},
   "source": [
    "### Delete the **whole** store\n",
    "\n",
    "> _Warning: use with caution. Data loss!_"
   ]
  },
  {
   "cell_type": "code",
   "execution_count": 17,
   "id": "a7414400-3e1b-45e4-bac7-9b49fcd4cba4",
   "metadata": {},
   "outputs": [],
   "source": [
    "vstore.clear()"
   ]
  },
  {
   "cell_type": "markdown",
   "id": "c031e547-2e63-4939-98c0-ccd42a1ba77b",
   "metadata": {},
   "source": [
    "## A mini-RAG"
   ]
  },
  {
   "cell_type": "markdown",
   "id": "20df19e6-df94-48cf-8043-33aa3cd5c63b",
   "metadata": {},
   "source": [
    "The store is now empty. Let us re-populate it, this time by loading from a (locally available) PDF file.\n",
    "\n",
    "_(The file is an abridged version of a public document found at [this link](https://commons.bellevuecollege.edu/wp-content/uploads/sites/125/2017/04/Intro-to-Phil-full-text.pdf))_\n",
    "\n",
    "The whole ingestion of the document, from reading the input PDF to sensibly splitting its text to computing and storing the sentence embeddings, is handled within LangChain by the code in the two cells below:"
   ]
  },
  {
   "cell_type": "code",
   "execution_count": 18,
   "id": "a3ee11cd-6513-4289-a4e8-993ab12e0d32",
   "metadata": {},
   "outputs": [],
   "source": [
    "from langchain.document_loaders import PyPDFLoader\n",
    "from langchain.text_splitter import RecursiveCharacterTextSplitter"
   ]
  },
  {
   "cell_type": "markdown",
   "id": "ad348f9e-f6e6-4bab-b4e8-c1d2e0a3bb61",
   "metadata": {},
   "source": [
    "**(Colab-only) Get the source PDF file**\n",
    "\n",
    "> You don't need to run the following cell unless you are on a Google Colab notebook:"
   ]
  },
  {
   "cell_type": "code",
   "execution_count": null,
   "id": "50827d43-0e84-4f8a-a106-e098d332c6a4",
   "metadata": {},
   "outputs": [],
   "source": [
    "# Run this cell if on a Google Colab:\n",
    "!mkdir -p sources\n",
    "!curl -L \\\n",
    "    \"https://github.com/awesome-astra/datasets/blob/main/demo-resources/what-is-philosophy/what-is-philosophy.pdf?raw=true\" \\\n",
    "    -o \"sources/what-is-philosophy.pdf\""
   ]
  },
  {
   "cell_type": "markdown",
   "id": "c1034fcb-4068-476e-8fcd-1bf0b0b68704",
   "metadata": {},
   "source": [
    "#### Load the PDF file in the vector store:"
   ]
  },
  {
   "cell_type": "code",
   "execution_count": 19,
   "id": "f711245a-a847-4acb-b4e3-93051adf1ebc",
   "metadata": {},
   "outputs": [
    {
     "name": "stdout",
     "output_type": "stream",
     "text": [
      "Documents from PDF: 38.\n",
      "Inserted 38 documents.\n"
     ]
    }
   ],
   "source": [
    "pdf_loader = PyPDFLoader(\"sources/what-is-philosophy.pdf\")\n",
    "splitter = RecursiveCharacterTextSplitter(chunk_size=512, chunk_overlap=64)\n",
    "docs_from_pdf = pdf_loader.load_and_split(text_splitter=splitter)\n",
    "\n",
    "print(f\"Documents from PDF: {len(docs_from_pdf)}.\")\n",
    "inserted_ids_from_pdf = vstore.add_documents(docs_from_pdf)\n",
    "print(f\"Inserted {len(inserted_ids_from_pdf)} documents.\")"
   ]
  },
  {
   "cell_type": "markdown",
   "id": "50bdc604-c1fb-49c3-8cb5-024130da8206",
   "metadata": {},
   "source": [
    "We use the LCEL (LangChain Expression Language), ready to be served e.g. through `langchain serve` among other delivery methods:"
   ]
  },
  {
   "cell_type": "code",
   "execution_count": 20,
   "id": "aaecf5ed-9358-43fd-83f5-a54578cbf81d",
   "metadata": {},
   "outputs": [],
   "source": [
    "from langchain.chat_models import ChatOpenAI\n",
    "from langchain.prompts import ChatPromptTemplate\n",
    "from langchain.schema.runnable import RunnablePassthrough\n",
    "from langchain.schema.output_parser import StrOutputParser"
   ]
  },
  {
   "cell_type": "code",
   "execution_count": 21,
   "id": "61bc1ebe-532e-4d8f-9ad1-31d003fe1e04",
   "metadata": {},
   "outputs": [],
   "source": [
    "retriever = vstore.as_retriever(search_kwargs={'k': 3})\n",
    "\n",
    "philo_template = \"\"\"\n",
    "You are a philosopher that draws inspiration from great thinkers of the past\n",
    "to craft well-thought answers to user questions. Use the provided context as the basis\n",
    "for your answers and do not make up new reasoning paths - just mix-and-match what you are given.\n",
    "Your answers must be concise and to the point, and refrain from answering about other topics than philosophy.\n",
    "\n",
    "CONTEXT:\n",
    "{context}\n",
    "\n",
    "QUESTION: {question}\n",
    "\n",
    "YOUR ANSWER:\"\"\"\n",
    "\n",
    "philo_prompt = ChatPromptTemplate.from_template(philo_template)\n",
    "\n",
    "llm = ChatOpenAI()\n",
    "\n",
    "chain = (\n",
    "    {\"context\": retriever, \"question\": RunnablePassthrough()} \n",
    "    | philo_prompt \n",
    "    | llm \n",
    "    | StrOutputParser()\n",
    ")"
   ]
  },
  {
   "cell_type": "code",
   "execution_count": 22,
   "id": "692f2fd6-4bc3-4c10-9c3a-8947d762c1dd",
   "metadata": {},
   "outputs": [
    {
     "data": {
      "text/plain": [
       "\"Russell elaborates on Peirce's idea of the security blanket by describing the intellectual consequences of this paradox. He states that a person without any philosophy is imprisoned in the prejudices derived from common sense and the habitual beliefs of their age or nation. This implies that clinging to comforting beliefs can limit one's intellectual growth and hinder their ability to critically examine and question their own beliefs.\""
      ]
     },
     "execution_count": 22,
     "metadata": {},
     "output_type": "execute_result"
    }
   ],
   "source": [
    "chain.invoke(\"How does Russel elaborate on Peirce's idea of the security blanket?\")"
   ]
  },
  {
   "cell_type": "markdown",
   "id": "533e5923-a1a1-40f0-976d-4b1af2cb03da",
   "metadata": {},
   "source": [
    "## Cleanup"
   ]
  },
  {
   "cell_type": "markdown",
   "id": "2c08d41e-65f8-4096-8b9d-9f12ed91c485",
   "metadata": {},
   "source": [
    "Let us completely delete the collection, thereby freeing the associated resources on Astra DB:\n",
    "\n",
    "> _Warning: use with caution. Data loss!_"
   ]
  },
  {
   "cell_type": "code",
   "execution_count": 23,
   "id": "9fe88518-0494-4f08-b0eb-35305ce24ac4",
   "metadata": {},
   "outputs": [],
   "source": [
    "vstore.delete_collection()"
   ]
  }
 ],
 "metadata": {
  "kernelspec": {
   "display_name": "Python 3 (ipykernel)",
   "language": "python",
   "name": "python3"
  },
  "language_info": {
   "codemirror_mode": {
    "name": "ipython",
    "version": 3
   },
   "file_extension": ".py",
   "mimetype": "text/x-python",
   "name": "python",
   "nbconvert_exporter": "python",
   "pygments_lexer": "ipython3",
   "version": "3.9.18"
  }
 },
 "nbformat": 4,
 "nbformat_minor": 5
}
