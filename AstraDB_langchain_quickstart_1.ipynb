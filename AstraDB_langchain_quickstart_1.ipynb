{
 "cells": [
  {
   "cell_type": "markdown",
   "id": "6d60a143-5cc8-43b9-8f2b-d5353aaa7f3c",
   "metadata": {},
   "source": [
    "# Not final yet (but soon...)"
   ]
  },
  {
   "cell_type": "code",
   "execution_count": null,
   "id": "943defcb-ace5-4d78-82e3-37b0a24dbc1a",
   "metadata": {},
   "outputs": [],
   "source": [
    "# TEMPORARY INSTALL: this will become \"pip install langchain[+version specifier]\"\n",
    "!pip install --quiet \"git+https://github.com/hemidactylus/langchain@SL-astra-db#egg=langchain&subdirectory=libs/langchain\"\n",
    "\n",
    "! pip install --quiet \\\n",
    "    \"astrapy>=0.5.0\" \\\n",
    "    \"datasets==2.14.6\" \\\n",
    "    \"openai==0.28.1\" \\\n",
    "    \"tiktoken==0.5.1\""
   ]
  },
  {
   "cell_type": "code",
   "execution_count": 2,
   "id": "47802c94-ec4a-460b-ba01-cbeff5c9c060",
   "metadata": {},
   "outputs": [],
   "source": [
    "import os\n",
    "from getpass import getpass\n",
    "\n",
    "from datasets import load_dataset\n",
    "\n",
    "from langchain.vectorstores import AstraDB\n",
    "from langchain.schema import Document\n",
    "from langchain.embeddings import OpenAIEmbeddings"
   ]
  },
  {
   "cell_type": "markdown",
   "id": "d26eb991-6176-4250-8546-6814f0e08c9e",
   "metadata": {},
   "source": [
    "## Init\n",
    "\n",
    "Example values:\n",
    "- API Endpoint: `https://01234567-89ab-cdef-0123-456789abcdef-us-east1.apps.astra.datastax.com`\n",
    "- Token: `AstraCS:6gBhNmsk135....` (it must have a role of at least \"Database Administrator\")\n",
    "- Keyspace. Optional, if provided: `my_keyspace`\n",
    "- OpenAI API key: `sk-4fQ3F...`"
   ]
  },
  {
   "cell_type": "code",
   "execution_count": 3,
   "id": "98df4a0f-86ee-4f96-a21e-8560644535ec",
   "metadata": {},
   "outputs": [],
   "source": [
    "if 'ASTRA_DB_API_ENDPOINT' not in os.environ:\n",
    "    os.environ[\"ASTRA_DB_API_ENDPOINT\"] = input(\"ASTRA_DB_API_ENDPOINT = \")\n",
    "\n",
    "if 'ASTRA_DB_APPLICATION_TOKEN' not in os.environ:\n",
    "    os.environ[\"ASTRA_DB_APPLICATION_TOKEN\"] = getpass(\"ASTRA_DB_APPLICATION_TOKEN = \")\n",
    "\n",
    "if 'ASTRA_DB_KEYSPACE' not in os.environ:\n",
    "    ks = input(\"(Optional) ASTRA_DB_KEYSPACE = \")\n",
    "    if ks:\n",
    "        os.environ[\"ASTRA_DB_KEYSPACE\"] = ks"
   ]
  },
  {
   "cell_type": "code",
   "execution_count": 4,
   "id": "c2cb6c2f-70fd-40de-984f-6e8af5c56b6b",
   "metadata": {},
   "outputs": [],
   "source": [
    "if 'OPENAI_API_KEY' not in os.environ:\n",
    "    os.environ[\"OPENAI_API_KEY\"] = input(\"OPENAI_API_KEY = \")"
   ]
  },
  {
   "cell_type": "code",
   "execution_count": 6,
   "id": "019c50d8-d6e2-4dd4-a9bf-992594aaa53d",
   "metadata": {},
   "outputs": [],
   "source": [
    "embe = OpenAIEmbeddings()\n",
    "vstore = AstraDB(\n",
    "    embedding=embe,\n",
    "    collection_name=\"astra_vector_demo\",\n",
    "    token=os.environ[\"ASTRA_DB_APPLICATION_TOKEN\"],\n",
    "    api_endpoint=os.environ[\"ASTRA_DB_API_ENDPOINT\"],\n",
    "    namespace=os.environ.get(\"ASTRA_DB_KEYSPACE\"),     # <-- this will disappear in a typical quickstart\n",
    ")"
   ]
  },
  {
   "cell_type": "markdown",
   "id": "b5210dee-393e-4ed4-a4cd-29a6399c0fea",
   "metadata": {},
   "source": [
    "## Load a small dataset"
   ]
  },
  {
   "cell_type": "code",
   "execution_count": 7,
   "id": "eab54cd7-6e6a-4a7a-aea5-bc8a9c5458cf",
   "metadata": {},
   "outputs": [
    {
     "name": "stdout",
     "output_type": "stream",
     "text": [
      "An example entry:\n",
      "{'author': 'aristotle', 'quote': 'Love well, be loved and do something of value.', 'tags': 'love;ethics'}\n"
     ]
    }
   ],
   "source": [
    "philo_dataset = load_dataset(\"datastax/philosopher-quotes\")[\"train\"]\n",
    "print(\"An example entry:\")\n",
    "print(philo_dataset[16])"
   ]
  },
  {
   "cell_type": "markdown",
   "id": "e1154901-f06a-4b58-9295-266c7dc48de6",
   "metadata": {},
   "source": [
    "## Add dataset documents to the vector store"
   ]
  },
  {
   "cell_type": "code",
   "execution_count": 8,
   "id": "6977fbdb-7186-4428-a468-b51102bff312",
   "metadata": {},
   "outputs": [
    {
     "name": "stdout",
     "output_type": "stream",
     "text": [
      "\n",
      "Inserted 450 documents.\n"
     ]
    }
   ],
   "source": [
    "docs = []\n",
    "for entry in philo_dataset:\n",
    "    metadata = {\"author\": entry[\"author\"]}\n",
    "    if entry[\"tags\"]:\n",
    "        for tag in entry[\"tags\"].split(\";\"):\n",
    "            metadata[tag] = \"y\"\n",
    "    doc = Document(page_content=entry[\"quote\"], metadata=metadata)\n",
    "    docs.append(doc)\n",
    "\n",
    "inserted_ids = vstore.add_documents(docs)\n",
    "print(f\"\\nInserted {len(inserted_ids)} documents.\")"
   ]
  },
  {
   "cell_type": "markdown",
   "id": "234e7988-6c96-4a64-90f5-fcff6a70c833",
   "metadata": {},
   "source": [
    "> TODO: show other add options (add_texts)"
   ]
  },
  {
   "cell_type": "markdown",
   "id": "76098464-bf37-4afd-aafe-6f3d0a8ddd2f",
   "metadata": {},
   "source": [
    "## ANN, simple"
   ]
  },
  {
   "cell_type": "code",
   "execution_count": 9,
   "id": "bbf4640b-c087-4cab-8ccd-f554fe6bde4d",
   "metadata": {},
   "outputs": [
    {
     "name": "stdout",
     "output_type": "stream",
     "text": [
      "* We are what we are because we have been what we have been. [{'author': 'freud', 'history': 'y'}]\n",
      "* We become what we contemplate. [{'author': 'plato', 'knowledge': 'y', 'ethics': 'y'}]\n",
      "* In the blessings as well as in the ills of life, less depends upon what befalls us than upon the way in which it is met. [{'author': 'schopenhauer', 'knowledge': 'y', 'ethics': 'y'}]\n"
     ]
    }
   ],
   "source": [
    "results = vstore.similarity_search(\"Our life is what we make of it\", k=3)\n",
    "for res in results:\n",
    "    print(f\"* {res.page_content} [{res.metadata}]\")"
   ]
  },
  {
   "cell_type": "markdown",
   "id": "f69ceadb-68be-494a-abac-4af9cd62493e",
   "metadata": {},
   "source": [
    "### Similarity values"
   ]
  },
  {
   "cell_type": "code",
   "execution_count": 10,
   "id": "d79ef95c-2a1e-4e5d-85a1-73ad902c3ef3",
   "metadata": {},
   "outputs": [
    {
     "name": "stdout",
     "output_type": "stream",
     "text": [
      "* [SIM=0.934110] We are what we are because we have been what we have been. [{'author': 'freud', 'history': 'y'}]\n",
      "* [SIM=0.932188] We become what we contemplate. [{'author': 'plato', 'knowledge': 'y', 'ethics': 'y'}]\n",
      "* [SIM=0.928739] In the blessings as well as in the ills of life, less depends upon what befalls us than upon the way in which it is met. [{'author': 'schopenhauer', 'knowledge': 'y', 'ethics': 'y'}]\n"
     ]
    }
   ],
   "source": [
    "results = vstore.similarity_search_with_score(\"Our life is what we make of it\", k=3)\n",
    "for res, score in results:\n",
    "    print(f\"* [SIM={score:3f}] {res.page_content} [{res.metadata}]\")"
   ]
  },
  {
   "cell_type": "markdown",
   "id": "b86a4db1-67ef-48d2-9939-cd24c0273fd3",
   "metadata": {},
   "source": [
    "## ANN, with metadata"
   ]
  },
  {
   "cell_type": "code",
   "execution_count": null,
   "id": "2fcacba8-a865-4c90-8617-a6e379d71b15",
   "metadata": {},
   "outputs": [],
   "source": [
    "results = vstore.similarity_search(\n",
    "    \"Our life is what we make of it\",\n",
    "    k=3,\n",
    "    filter={\"author\": \"aristotle\"},\n",
    ")\n",
    "for res in results:\n",
    "    print(f\"* {res.page_content} [{res.metadata}]\")"
   ]
  },
  {
   "cell_type": "markdown",
   "id": "7d22175b-4a7f-4ebb-936a-72db24551f56",
   "metadata": {},
   "source": [
    "## MMR search"
   ]
  },
  {
   "cell_type": "code",
   "execution_count": null,
   "id": "523a1b18-8b81-484a-b79e-c8fa74ac5d68",
   "metadata": {},
   "outputs": [],
   "source": [
    "results = vstore.max_marginal_relevance_search(\n",
    "    \"Our life is what we make of it\",\n",
    "    k=3,\n",
    "    filter={\"author\": \"aristotle\"},\n",
    ")\n",
    "for res in results:\n",
    "    print(f\"* {res.page_content} [{res.metadata}]\")"
   ]
  },
  {
   "cell_type": "markdown",
   "id": "ada4d60c-8131-4268-9049-60c154ffe4d6",
   "metadata": {},
   "source": [
    "> TODO: document deletion (various ways)\n",
    "\n",
    "> TODO: loading from one/more PDFs as well (from url or local file?)"
   ]
  },
  {
   "cell_type": "markdown",
   "id": "c031e547-2e63-4939-98c0-ccd42a1ba77b",
   "metadata": {},
   "source": [
    "## A mini-RAG\n",
    "\n",
    "We use the LCEL (langchain expression language), ready for e.g. LangServe and all"
   ]
  },
  {
   "cell_type": "code",
   "execution_count": 11,
   "id": "aaecf5ed-9358-43fd-83f5-a54578cbf81d",
   "metadata": {},
   "outputs": [],
   "source": [
    "from langchain.chat_models import ChatOpenAI\n",
    "from langchain.prompts import ChatPromptTemplate\n",
    "from langchain.schema.runnable import RunnablePassthrough\n",
    "from langchain.schema.output_parser import StrOutputParser"
   ]
  },
  {
   "cell_type": "code",
   "execution_count": 12,
   "id": "61bc1ebe-532e-4d8f-9ad1-31d003fe1e04",
   "metadata": {},
   "outputs": [],
   "source": [
    "retriever = vstore.as_retriever(search_kwargs={'k': 3})\n",
    "\n",
    "philo_template = \"\"\"\n",
    "You are a philosopher that draws inspiration from great thinkers of the past\n",
    "to craft well-thought answers to user questions. Use the provided context as the basis\n",
    "for your answers and do not make up new reasoning paths - just mix-and-match what you are given.\n",
    "Your answers must be concise and to the point, and refrain from answering about other topics than philosophy.\n",
    "\n",
    "CONTEXT:\n",
    "{context}\n",
    "\n",
    "QUESTION: {question}\n",
    "\n",
    "YOUR ANSWER:\"\"\"\n",
    "\n",
    "philo_prompt = ChatPromptTemplate.from_template(philo_template)\n",
    "\n",
    "llm = ChatOpenAI()\n",
    "\n",
    "chain = (\n",
    "    {\"context\": retriever, \"question\": RunnablePassthrough()} \n",
    "    | philo_prompt \n",
    "    | llm \n",
    "    | StrOutputParser()\n",
    ")"
   ]
  },
  {
   "cell_type": "code",
   "execution_count": 14,
   "id": "692f2fd6-4bc3-4c10-9c3a-8947d762c1dd",
   "metadata": {},
   "outputs": [
    {
     "data": {
      "text/plain": [
       "'The relation between our happiness and the people around us is twofold. According to Plato, happiness springs from doing good and helping others, implying that our happiness is intertwined with the well-being of those around us. Kant emphasizes the importance of having someone to love, suggesting that our happiness is influenced by our relationships with others. Therefore, the people around us play a significant role in our happiness.'"
      ]
     },
     "execution_count": 14,
     "metadata": {},
     "output_type": "execute_result"
    }
   ],
   "source": [
    "chain.invoke(\"What is the relation between our happiness and the people around us?\")"
   ]
  }
 ],
 "metadata": {
  "kernelspec": {
   "display_name": "Python 3 (ipykernel)",
   "language": "python",
   "name": "python3"
  },
  "language_info": {
   "codemirror_mode": {
    "name": "ipython",
    "version": 3
   },
   "file_extension": ".py",
   "mimetype": "text/x-python",
   "name": "python",
   "nbconvert_exporter": "python",
   "pygments_lexer": "ipython3",
   "version": "3.8.18"
  }
 },
 "nbformat": 4,
 "nbformat_minor": 5
}
